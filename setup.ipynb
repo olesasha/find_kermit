{
 "cells": [
  {
   "cell_type": "code",
   "execution_count": 1,
   "metadata": {},
   "outputs": [],
   "source": [
    "import pandas as pd\n",
    "import math\n",
    "import cv2\n",
    "from tqdm import tqdm\n",
    "import os\n",
    "import re\n",
    "import shutil\n",
    "import random\n",
    "\n",
    "from scripts.utils import delete_frames, extract_frames, train_test_split\n",
    "cwd = os.getcwd()"
   ]
  },
  {
   "cell_type": "code",
   "execution_count": 2,
   "metadata": {},
   "outputs": [
    {
     "name": "stdout",
     "output_type": "stream",
     "text": [
      "Directory '../ground_truth_data/train_data' already exists\n",
      "Directory '../ground_truth_data/validation_data' already exists\n",
      "Directory '../ground_truth_data/test_data' already exists\n"
     ]
    }
   ],
   "source": [
    "data_path = \"../ground_truth_data/\"\n",
    "train_path = \"../ground_truth_data/train_data\"\n",
    "val_path = \"../ground_truth_data/validation_data\"\n",
    "test_path = \"../ground_truth_data/test_data\"\n",
    "\n",
    "directories = [\"train_data\", \"validation_data\", \"test_data\"]\n",
    "muppet_files = [\"Muppets-02-01-01.avi\", \"Muppets-02-04-04.avi\", \"Muppets-03-04-03\"]\n",
    "\n",
    "for directory in directories:\n",
    "    dir_path = os.path.join(data_path, directory)\n",
    "    try:\n",
    "        os.mkdir(dir_path)\n",
    "        print(f\"Directory '{dir_path}' created successfully\")\n",
    "    except FileExistsError:\n",
    "        print(f\"Directory '{dir_path}' already exists\")"
   ]
  },
  {
   "cell_type": "code",
   "execution_count": null,
   "metadata": {},
   "outputs": [],
   "source": [
    "extract_frames(\"../ground_truth_data/Muppets-02-04-04.avi\")"
   ]
  },
  {
   "cell_type": "code",
   "execution_count": 14,
   "metadata": {},
   "outputs": [
    {
     "name": "stdout",
     "output_type": "stream",
     "text": [
      "Split completed: 82 train, 10 validation, 10 test frames.\n"
     ]
    }
   ],
   "source": [
    "train_test_split(data_path, train_path, val_path, test_path, 0.1, 0.1)"
   ]
  },
  {
   "cell_type": "code",
   "execution_count": 3,
   "metadata": {},
   "outputs": [
    {
     "name": "stdout",
     "output_type": "stream",
     "text": [
      "Removed: ../ground_truth_data/test_data/frame47.png\n",
      "Removed: ../ground_truth_data/test_data/frame78.png\n",
      "Removed: ../ground_truth_data/test_data/frame82.png\n",
      "Removed: ../ground_truth_data/test_data/frame41.png\n",
      "Removed: ../ground_truth_data/test_data/frame80.png\n",
      "Removed: ../ground_truth_data/test_data/frame9.png\n",
      "Removed: ../ground_truth_data/test_data/frame15.png\n",
      "Removed: ../ground_truth_data/test_data/frame1.png\n",
      "Removed: ../ground_truth_data/test_data/frame67.png\n",
      "Removed: ../ground_truth_data/test_data/frame72.png\n",
      "Removed: ../ground_truth_data/train_data/frame52.png\n",
      "Removed: ../ground_truth_data/train_data/frame46.png\n",
      "Removed: ../ground_truth_data/train_data/frame91.png\n",
      "Removed: ../ground_truth_data/train_data/frame85.png\n",
      "Removed: ../ground_truth_data/train_data/frame84.png\n",
      "Removed: ../ground_truth_data/train_data/frame90.png\n",
      "Removed: ../ground_truth_data/train_data/frame53.png\n",
      "Removed: ../ground_truth_data/train_data/frame79.png\n",
      "Removed: ../ground_truth_data/train_data/frame51.png\n",
      "Removed: ../ground_truth_data/train_data/frame86.png\n",
      "Removed: ../ground_truth_data/train_data/frame92.png\n",
      "Removed: ../ground_truth_data/train_data/frame93.png\n",
      "Removed: ../ground_truth_data/train_data/frame87.png\n",
      "Removed: ../ground_truth_data/train_data/frame40.png\n",
      "Removed: ../ground_truth_data/train_data/frame54.png\n",
      "Removed: ../ground_truth_data/train_data/frame68.png\n",
      "Removed: ../ground_truth_data/train_data/frame83.png\n",
      "Removed: ../ground_truth_data/train_data/frame97.png\n",
      "Removed: ../ground_truth_data/train_data/frame96.png\n",
      "Removed: ../ground_truth_data/train_data/frame69.png\n",
      "Removed: ../ground_truth_data/train_data/frame55.png\n",
      "Removed: ../ground_truth_data/train_data/frame57.png\n",
      "Removed: ../ground_truth_data/train_data/frame43.png\n",
      "Removed: ../ground_truth_data/train_data/frame94.png\n",
      "Removed: ../ground_truth_data/train_data/frame81.png\n",
      "Removed: ../ground_truth_data/train_data/frame95.png\n",
      "Removed: ../ground_truth_data/train_data/frame42.png\n",
      "Removed: ../ground_truth_data/train_data/frame19.png\n",
      "Removed: ../ground_truth_data/train_data/frame31.png\n",
      "Removed: ../ground_truth_data/train_data/frame25.png\n",
      "Removed: ../ground_truth_data/train_data/frame24.png\n",
      "Removed: ../ground_truth_data/train_data/frame30.png\n",
      "Removed: ../ground_truth_data/train_data/frame18.png\n",
      "Removed: ../ground_truth_data/train_data/frame26.png\n",
      "Removed: ../ground_truth_data/train_data/frame27.png\n",
      "Removed: ../ground_truth_data/train_data/frame23.png\n",
      "Removed: ../ground_truth_data/train_data/frame36.png\n",
      "Removed: ../ground_truth_data/train_data/frame22.png\n",
      "Removed: ../ground_truth_data/train_data/frame34.png\n",
      "Removed: ../ground_truth_data/train_data/frame20.png\n",
      "Removed: ../ground_truth_data/train_data/frame8.png\n",
      "Removed: ../ground_truth_data/train_data/frame21.png\n",
      "Removed: ../ground_truth_data/train_data/frame35.png\n",
      "Removed: ../ground_truth_data/train_data/frame38.png\n",
      "Removed: ../ground_truth_data/train_data/frame5.png\n",
      "Removed: ../ground_truth_data/train_data/frame4.png\n",
      "Removed: ../ground_truth_data/train_data/frame11.png\n",
      "Removed: ../ground_truth_data/train_data/frame39.png\n",
      "Removed: ../ground_truth_data/train_data/frame13.png\n",
      "Removed: ../ground_truth_data/train_data/frame6.png\n",
      "Removed: ../ground_truth_data/train_data/frame7.png\n",
      "Removed: ../ground_truth_data/train_data/frame12.png\n",
      "Removed: ../ground_truth_data/train_data/frame16.png\n",
      "Removed: ../ground_truth_data/train_data/frame3.png\n",
      "Removed: ../ground_truth_data/train_data/frame100.png\n",
      "Removed: ../ground_truth_data/train_data/frame101.png\n",
      "Removed: ../ground_truth_data/train_data/frame2.png\n",
      "Removed: ../ground_truth_data/train_data/frame17.png\n",
      "Removed: ../ground_truth_data/train_data/frame0.png\n",
      "Removed: ../ground_truth_data/train_data/frame29.png\n",
      "Removed: ../ground_truth_data/train_data/frame28.png\n",
      "Removed: ../ground_truth_data/train_data/frame14.png\n",
      "Removed: ../ground_truth_data/train_data/frame73.png\n",
      "Removed: ../ground_truth_data/train_data/frame98.png\n",
      "Removed: ../ground_truth_data/train_data/frame99.png\n",
      "Removed: ../ground_truth_data/train_data/frame64.png\n",
      "Removed: ../ground_truth_data/train_data/frame70.png\n",
      "Removed: ../ground_truth_data/train_data/frame71.png\n",
      "Removed: ../ground_truth_data/train_data/frame65.png\n",
      "Removed: ../ground_truth_data/train_data/frame59.png\n",
      "Removed: ../ground_truth_data/train_data/frame61.png\n",
      "Removed: ../ground_truth_data/train_data/frame75.png\n",
      "Removed: ../ground_truth_data/train_data/frame49.png\n",
      "Removed: ../ground_truth_data/train_data/frame48.png\n",
      "Removed: ../ground_truth_data/train_data/frame74.png\n",
      "Removed: ../ground_truth_data/train_data/frame60.png\n",
      "Removed: ../ground_truth_data/train_data/frame76.png\n",
      "Removed: ../ground_truth_data/train_data/frame62.png\n",
      "Removed: ../ground_truth_data/train_data/frame89.png\n",
      "Removed: ../ground_truth_data/train_data/frame88.png\n",
      "Removed: ../ground_truth_data/train_data/frame63.png\n",
      "Removed: ../ground_truth_data/train_data/frame77.png\n",
      "Removed: ../ground_truth_data/validation_data/frame45.png\n",
      "Removed: ../ground_truth_data/validation_data/frame50.png\n",
      "Removed: ../ground_truth_data/validation_data/frame44.png\n",
      "Removed: ../ground_truth_data/validation_data/frame56.png\n",
      "Removed: ../ground_truth_data/validation_data/frame32.png\n",
      "Removed: ../ground_truth_data/validation_data/frame33.png\n",
      "Removed: ../ground_truth_data/validation_data/frame37.png\n",
      "Removed: ../ground_truth_data/validation_data/frame10.png\n",
      "Removed: ../ground_truth_data/validation_data/frame66.png\n",
      "Removed: ../ground_truth_data/validation_data/frame58.png\n"
     ]
    },
    {
     "ename": "NameError",
     "evalue": "name 'validation_path' is not defined",
     "output_type": "error",
     "traceback": [
      "\u001b[0;31m---------------------------------------------------------------------------\u001b[0m",
      "\u001b[0;31mNameError\u001b[0m                                 Traceback (most recent call last)",
      "Cell \u001b[0;32mIn[3], line 3\u001b[0m\n\u001b[1;32m      1\u001b[0m delete_frames(data_path)        \n\u001b[1;32m      2\u001b[0m delete_frames(train_path)        \n\u001b[0;32m----> 3\u001b[0m delete_frames(\u001b[43mvalidation_path\u001b[49m)        \n\u001b[1;32m      4\u001b[0m delete_frames(test_path)        \n",
      "\u001b[0;31mNameError\u001b[0m: name 'validation_path' is not defined"
     ]
    }
   ],
   "source": [
    "delete_frames(data_path)        \n",
    "delete_frames(train_path)        \n",
    "delete_frames(validation_path)        \n",
    "delete_frames(test_path)        "
   ]
  }
 ],
 "metadata": {
  "kernelspec": {
   "display_name": "sm_venv",
   "language": "python",
   "name": "python3"
  },
  "language_info": {
   "codemirror_mode": {
    "name": "ipython",
    "version": 3
   },
   "file_extension": ".py",
   "mimetype": "text/x-python",
   "name": "python",
   "nbconvert_exporter": "python",
   "pygments_lexer": "ipython3",
   "version": "3.12.7"
  }
 },
 "nbformat": 4,
 "nbformat_minor": 2
}
