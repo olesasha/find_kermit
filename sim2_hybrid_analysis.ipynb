{
 "cells": [
  {
   "cell_type": "markdown",
   "metadata": {},
   "source": [
    "# Hybrid Feature Analyses SIM 2 - Detecting Pigs and the Swedish Chef"
   ]
  },
  {
   "cell_type": "markdown",
   "metadata": {},
   "source": [
    "This notebook combines the audio and visual features extracted in previous analyses to predict the presence of pigs and the Swedish chef. Due to computational resource constraints and the large number of features, we exclusively employ the XGBoost Gradient Boosting algorithm for classification."
   ]
  },
  {
   "cell_type": "code",
   "execution_count": 1,
   "metadata": {},
   "outputs": [],
   "source": [
    "import pandas as pd"
   ]
  },
  {
   "cell_type": "markdown",
   "metadata": {},
   "source": [
    "# Load Features & Ground Truth"
   ]
  },
  {
   "cell_type": "markdown",
   "metadata": {},
   "source": [
    "Video Features"
   ]
  },
  {
   "cell_type": "code",
   "execution_count": 2,
   "metadata": {},
   "outputs": [
    {
     "data": {
      "text/plain": [
       "(115885, 127)"
      ]
     },
     "execution_count": 2,
     "metadata": {},
     "output_type": "execute_result"
    }
   ],
   "source": [
    "video_features_path = \"../model_vars/sim2_video/feature_df.csv\"\n",
    "video_feature_df = pd.read_csv(video_features_path)\n",
    "video_feature_df.shape"
   ]
  },
  {
   "cell_type": "markdown",
   "metadata": {},
   "source": [
    "Audio Features"
   ]
  },
  {
   "cell_type": "code",
   "execution_count": 3,
   "metadata": {},
   "outputs": [
    {
     "data": {
      "text/plain": [
       "(115885, 64)"
      ]
     },
     "execution_count": 3,
     "metadata": {},
     "output_type": "execute_result"
    }
   ],
   "source": [
    "audio_features_path = \"../model_vars/sim2_audio/sim2_audio_features.csv\"\n",
    "audio_feature_df = pd.read_csv(audio_features_path)\n",
    "audio_feature_df.shape"
   ]
  },
  {
   "cell_type": "markdown",
   "metadata": {},
   "source": [
    "Merge feature dataframes"
   ]
  },
  {
   "cell_type": "code",
   "execution_count": 27,
   "metadata": {},
   "outputs": [],
   "source": [
    "import pandas as pd\n",
    "\n",
    "# Create an `idx` column by combining `video_idx` and `frame_idx`\n",
    "audio_feature_df['idx'] = audio_feature_df['video_idx'].astype(str) + \"@\" + audio_feature_df['frame_idx'].astype(str)\n",
    "video_feature_df['idx'] = video_feature_df['video_idx'].astype(str) + \"@\" + video_feature_df['frame_idx'].astype(str)\n",
    "\n",
    "# Extract the `idx` column as sets for comparison\n",
    "audio_idx = set(audio_feature_df['idx'])\n",
    "video_idx = set(video_feature_df['idx'])"
   ]
  },
  {
   "cell_type": "code",
   "execution_count": 28,
   "metadata": {},
   "outputs": [
    {
     "name": "stdout",
     "output_type": "stream",
     "text": [
      "Missing in video_feature_df: set()\n",
      "Missing in audio_feature_df: set()\n"
     ]
    }
   ],
   "source": [
    "# Find `audio_idx` not in `video_idx`\n",
    "missing_in_video = audio_idx - video_idx\n",
    "print(f\"Missing in video_feature_df: {missing_in_video}\")\n",
    "\n",
    "# Find `video_idx` not in `audio_idx`\n",
    "missing_in_audio = video_idx - audio_idx\n",
    "print(f\"Missing in audio_feature_df: {missing_in_audio}\")\n"
   ]
  },
  {
   "cell_type": "code",
   "execution_count": 4,
   "metadata": {},
   "outputs": [
    {
     "name": "stdout",
     "output_type": "stream",
     "text": [
      "Frames and audio are already extracted.\n",
      "Loading audio segments...\n",
      "Loaded 3 audio files.\n",
      "Loaded audio segments for 3 videos.\n",
      "Loaded frames for 3 videos.\n",
      "Number of videos with frames: 3\n",
      "Video 0 has 38681 frames.\n",
      "Video 1 has 38706 frames.\n",
      "Video 2 has 38498 frames.\n"
     ]
    }
   ],
   "source": [
    "from scripts.load_data import check_and_load\n",
    "\n",
    "\n",
    "data_path = \"../ground_truth_data\"\n",
    "frames_output_dir = \"../ground_truth_data/frames\"\n",
    "audio_output_dir = \"../ground_truth_data/audio\"\n",
    "annotations_path = \"../ground_truth_data\"\n",
    "\n",
    "muppet_files = {\n",
    "    \"Muppets-02-01-01.avi\": \"GroundTruth_Muppets-02-01-01.csv\",\n",
    "    \"Muppets-02-04-04.avi\": \"GroundTruth_Muppets-02-04-04.csv\",\n",
    "    \"Muppets-03-04-03.avi\": \"GroundTruth_Muppets-03-04-03.csv\",\n",
    "}\n",
    "\n",
    "annotations, audio_data, frames = check_and_load(data_path, frames_output_dir, audio_output_dir, annotations_path, muppet_files)"
   ]
  },
  {
   "cell_type": "code",
   "execution_count": 5,
   "metadata": {},
   "outputs": [
    {
     "data": {
      "text/plain": [
       "(115885, 2)"
      ]
     },
     "execution_count": 5,
     "metadata": {},
     "output_type": "execute_result"
    }
   ],
   "source": [
    "# Create a mapping from filenames to video indices\n",
    "video_idx_map = {filename: idx for idx, filename in enumerate(muppet_files.keys())}\n",
    "\n",
    "# Prepare ground truth data with corrected video_idx\n",
    "ground_truth_data = []\n",
    "for video_filename, annotation_df in annotations.items():\n",
    "    video_idx = video_idx_map[video_filename]  # Map video filename to its index\n",
    "    for _, row in annotation_df.iterrows():\n",
    "        ground_truth_data.append({\n",
    "            'video_idx': video_idx,  # Use mapped video index\n",
    "            'frame_idx': row['Frame_number'],  # Assuming Frame_number exists\n",
    "            #'Pigs': row['Pigs'],  # Assuming Pigs is a column in the annotation\n",
    "            #'Cook': row['Cook']  # Assuming this column exists\n",
    "        })\n",
    "\n",
    "# Create a DataFrame for ground truth\n",
    "ground_truth_df = pd.DataFrame(ground_truth_data)\n",
    "ground_truth_df.shape"
   ]
  },
  {
   "cell_type": "code",
   "execution_count": 8,
   "metadata": {},
   "outputs": [],
   "source": [
    "# Create an `idx` column by combining `video_idx` and `frame_idx`\n",
    "ground_truth_df['idx'] = ground_truth_df['video_idx'].astype(str) + \"@\" + ground_truth_df['frame_idx'].astype(str)\n",
    "audio_feature_df['idx'] = audio_feature_df['video_idx'].astype(str) + \"@\" + audio_feature_df['frame_idx'].astype(str)\n",
    "\n",
    "# Extract the `idx` column as sets for comparison\n",
    "audio_idx = set(ground_truth_df['idx'])\n",
    "video_idx = set(audio_feature_df['idx'])"
   ]
  },
  {
   "cell_type": "code",
   "execution_count": 9,
   "metadata": {},
   "outputs": [
    {
     "name": "stdout",
     "output_type": "stream",
     "text": [
      "Missing in video_feature_df: {'1@38556', '1@38574', '1@38532', '1@38620', '1@38601', '1@38550', '1@38547', '1@38635', '1@38576', '1@38639', '1@38626', '1@38596', '1@38554', '1@38701', '1@38510', '1@38572', '1@38694', '1@38578', '1@38517', '1@38649', '1@38642', '1@38604', '1@38602', '1@38651', '1@38533', '1@38638', '1@38666', '1@38552', '1@38619', '1@38673', '1@38544', '1@38523', '1@38704', '1@38631', '1@38605', '1@38592', '1@38647', '1@38688', '1@38702', '1@38636', '1@38571', '1@38585', '1@38512', '1@38500', '1@38539', '1@38559', '1@38566', '1@38698', '1@38579', '1@38530', '1@38676', '1@38699', '1@38670', '1@38563', '1@38690', '1@38665', '1@38588', '1@38667', '1@38617', '1@38705', '1@38671', '1@38627', '1@38565', '1@38567', '1@38531', '1@38502', '1@38558', '1@38570', '1@38703', '1@38695', '1@38691', '1@38540', '1@38656', '1@38632', '1@38681', '1@38696', '1@38591', '1@38637', '1@38663', '1@38499', '1@38669', '1@38675', '1@38679', '1@38603', '1@38513', '1@38515', '1@38536', '1@38568', '1@38561', '1@38598', '1@38680', '1@38580', '1@38573', '1@38537', '1@38582', '1@38535', '1@38584', '1@38526', '1@38589', '1@38519', '1@38542', '1@38618', '1@38653', '1@38630', '1@38509', '1@38506', '1@38577', '1@38641', '1@38569', '1@38643', '1@38555', '1@38621', '1@38545', '1@38521', '1@38514', '1@38640', '1@38652', '1@38549', '1@38686', '1@38610', '1@38655', '1@38683', '1@38616', '1@38684', '1@38520', '1@38575', '1@38662', '1@38672', '1@38644', '1@38593', '1@38650', '1@38633', '1@38528', '1@38501', '1@38615', '1@38606', '1@38518', '1@38529', '1@38648', '1@38595', '1@38504', '1@38511', '1@38548', '1@38692', '1@38628', '1@38557', '1@38586', '1@38600', '1@38660', '1@38581', '1@38654', '1@38614', '1@38697', '1@38625', '1@38560', '1@38553', '1@38599', '1@38612', '1@38624', '1@38657', '1@38700', '1@38498', '1@38629', '1@38503', '1@38693', '1@38583', '1@38622', '1@38634', '1@38609', '1@38659', '1@38678', '1@38508', '1@38562', '1@38682', '1@38597', '1@38522', '1@38527', '1@38661', '1@38534', '1@38564', '1@38645', '1@38507', '1@38674', '1@38677', '1@38611', '1@38658', '1@38587', '1@38524', '1@38505', '1@38685', '1@38551', '1@38541', '1@38608', '1@38543', '1@38607', '1@38623', '1@38590', '1@38525', '1@38594', '1@38668', '1@38687', '1@38538', '1@38516', '1@38546', '1@38689', '1@38613', '1@38646', '1@38664'}\n",
      "Missing in audio_feature_df: {'2@38540', '2@38646', '2@38684', '2@38705', '2@38590', '2@38503', '2@38584', '2@38628', '2@38656', '2@38602', '2@38665', '2@38525', '2@38509', '2@38603', '2@38601', '2@38698', '2@38587', '2@38582', '2@38636', '2@38682', '2@38668', '2@38695', '2@38642', '2@38551', '2@38677', '2@38575', '2@38692', '2@38553', '2@38609', '2@38703', '2@38633', '2@38660', '2@38517', '2@38670', '2@38654', '2@38683', '2@38608', '2@38534', '2@38678', '2@38550', '2@38697', '2@38585', '2@38561', '2@38596', '2@38586', '2@38545', '2@38616', '2@38501', '2@38570', '2@38619', '2@38529', '2@38511', '2@38663', '2@38643', '2@38546', '2@38522', '2@38680', '2@38615', '2@38548', '2@38504', '2@38701', '2@38652', '2@38591', '2@38657', '2@38533', '2@38612', '2@38691', '2@38658', '2@38515', '2@38571', '2@38508', '2@38620', '2@38513', '2@38599', '2@38557', '2@38532', '2@38523', '2@38664', '2@38681', '2@38676', '2@38675', '2@38577', '2@38641', '2@38566', '2@38499', '2@38693', '2@38696', '2@38685', '2@38634', '2@38621', '2@38549', '2@38651', '2@38669', '2@38674', '2@38598', '2@38507', '2@38498', '2@38579', '2@38543', '2@38597', '2@38617', '2@38689', '2@38690', '2@38578', '2@38606', '2@38565', '2@38600', '2@38574', '2@38662', '2@38569', '2@38555', '2@38688', '2@38512', '2@38650', '2@38556', '2@38559', '2@38544', '2@38644', '2@38622', '2@38530', '2@38679', '2@38524', '2@38573', '2@38637', '2@38635', '2@38653', '2@38558', '2@38702', '2@38686', '2@38516', '2@38547', '2@38595', '2@38638', '2@38541', '2@38605', '2@38661', '2@38666', '2@38535', '2@38502', '2@38527', '2@38667', '2@38538', '2@38594', '2@38505', '2@38593', '2@38648', '2@38589', '2@38576', '2@38659', '2@38536', '2@38537', '2@38514', '2@38671', '2@38500', '2@38632', '2@38564', '2@38700', '2@38640', '2@38649', '2@38631', '2@38673', '2@38647', '2@38531', '2@38563', '2@38572', '2@38699', '2@38694', '2@38542', '2@38625', '2@38623', '2@38580', '2@38618', '2@38506', '2@38560', '2@38518', '2@38607', '2@38521', '2@38581', '2@38554', '2@38629', '2@38626', '2@38592', '2@38624', '2@38704', '2@38520', '2@38604', '2@38614', '2@38588', '2@38611', '2@38510', '2@38583', '2@38528', '2@38610', '2@38655', '2@38687', '2@38627', '2@38630', '2@38539', '2@38552', '2@38645', '2@38526', '2@38672', '2@38613', '2@38519', '2@38568', '2@38639', '2@38567', '2@38562'}\n"
     ]
    }
   ],
   "source": [
    "# Find `audio_idx` not in `video_idx`\n",
    "missing_in_video = audio_idx - video_idx\n",
    "print(f\"Missing in video_feature_df: {missing_in_video}\")\n",
    "\n",
    "# Find `video_idx` not in `audio_idx`\n",
    "missing_in_audio = video_idx - audio_idx\n",
    "print(f\"Missing in audio_feature_df: {missing_in_audio}\")"
   ]
  },
  {
   "cell_type": "code",
   "execution_count": 26,
   "metadata": {},
   "outputs": [
    {
     "data": {
      "text/plain": [
       "(115885, 159)"
      ]
     },
     "execution_count": 26,
     "metadata": {},
     "output_type": "execute_result"
    }
   ],
   "source": [
    "feature_df = pd.merge(video_feature_df, audio_feature_df, on=['video_idx', 'frame_idx'], how='inner')\n",
    "feature_df.shape"
   ]
  }
 ],
 "metadata": {
  "kernelspec": {
   "display_name": "sim1_2",
   "language": "python",
   "name": "python3"
  },
  "language_info": {
   "codemirror_mode": {
    "name": "ipython",
    "version": 3
   },
   "file_extension": ".py",
   "mimetype": "text/x-python",
   "name": "python",
   "nbconvert_exporter": "python",
   "pygments_lexer": "ipython3",
   "version": "3.10.15"
  }
 },
 "nbformat": 4,
 "nbformat_minor": 2
}
