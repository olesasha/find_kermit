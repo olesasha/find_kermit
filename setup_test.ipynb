{
 "cells": [
  {
   "cell_type": "markdown",
   "metadata": {},
   "source": [
    "# Check Dataloader"
   ]
  },
  {
   "cell_type": "code",
   "execution_count": 5,
   "metadata": {},
   "outputs": [],
   "source": [
    "from scripts.load_data import check_and_load"
   ]
  },
  {
   "cell_type": "code",
   "execution_count": 6,
   "metadata": {},
   "outputs": [
    {
     "name": "stdout",
     "output_type": "stream",
     "text": [
      "Frames and/or audio not extracted. Running setup script...\n",
      "Loading audio segments...\n",
      "Loaded audio segments for 3 videos.\n",
      "Loaded audio segments for 3 videos.\n",
      "Video 0 has 1500 audio segments.\n",
      "Video 1 has 1500 audio segments.\n",
      "Video 2 has 1500 audio segments.\n",
      "Loaded frames for 3 videos.\n",
      "Number of videos with frames: 3\n",
      "Video 0 has 1500 frames.\n",
      "Video 1 has 1500 frames.\n",
      "Video 2 has 1500 frames.\n"
     ]
    }
   ],
   "source": [
    "annotations, audio_data, frames = check_and_load()"
   ]
  }
 ],
 "metadata": {
  "kernelspec": {
   "display_name": "sm_venv",
   "language": "python",
   "name": "python3"
  },
  "language_info": {
   "codemirror_mode": {
    "name": "ipython",
    "version": 3
   },
   "file_extension": ".py",
   "mimetype": "text/x-python",
   "name": "python",
   "nbconvert_exporter": "python",
   "pygments_lexer": "ipython3",
   "version": "3.12.8"
  }
 },
 "nbformat": 4,
 "nbformat_minor": 2
}
