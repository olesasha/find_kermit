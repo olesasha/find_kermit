{
 "cells": [
  {
   "cell_type": "markdown",
   "metadata": {},
   "source": [
    "# Audio Feature Analyses SIM 1"
   ]
  },
  {
   "cell_type": "code",
   "execution_count": 1,
   "metadata": {},
   "outputs": [],
   "source": [
    "import librosa\n",
    "import numpy as np\n",
    "import pandas as pd\n",
    "\n",
    "\n",
    "from scripts.load_data import check_and_load\n",
    "from scripts.extract_audio_features import extract_zcr"
   ]
  },
  {
   "cell_type": "markdown",
   "metadata": {},
   "source": [
    "## Data Loading"
   ]
  },
  {
   "cell_type": "code",
   "execution_count": 2,
   "metadata": {},
   "outputs": [],
   "source": [
    "# Define paths\n",
    "data_path = \"../ground_truth_data/trimmed_videos\"\n",
    "#data_path = \"../ground_truth_data\"\n",
    "\n",
    "frames_output_dir = \"../ground_truth_data/frames\"\n",
    "audio_output_dir = \"../ground_truth_data/audio\"\n",
    "\n",
    "annotations_path = \"../ground_truth_data/trimmed_videos\"\n",
    "#annotations_path = \"../ground_truth_data\"\n",
    "\n",
    "muppet_files = {\n",
    "    \"Muppets-02-01-01.avi\": \"GroundTruth_Muppets-02-01-01.csv\",\n",
    "    \"Muppets-02-04-04.avi\": \"GroundTruth_Muppets-02-04-04.csv\",\n",
    "    \"Muppets-03-04-03.avi\": \"GroundTruth_Muppets-03-04-03.csv\",\n",
    "}"
   ]
  },
  {
   "cell_type": "code",
   "execution_count": 3,
   "metadata": {},
   "outputs": [
    {
     "name": "stdout",
     "output_type": "stream",
     "text": [
      "Frames and audio are already extracted.\n",
      "Loading audio segments...\n",
      "Loaded audio segments for 3 videos.\n",
      "Loaded audio segments for 3 videos.\n",
      "Video 0 has 1500 audio segments.\n",
      "Video 1 has 1500 audio segments.\n",
      "Video 2 has 1500 audio segments.\n",
      "Loaded frames for 3 videos.\n",
      "Number of videos with frames: 3\n",
      "Video 0 has 1500 frames.\n",
      "Video 1 has 1500 frames.\n",
      "Video 2 has 1500 frames.\n"
     ]
    }
   ],
   "source": [
    "# TODO: add code to overwrite frames or audio in case only one exists\n",
    "annotations, audio_data, frames = check_and_load(data_path, frames_output_dir, audio_output_dir, annotations_path, muppet_files)"
   ]
  },
  {
   "cell_type": "markdown",
   "metadata": {},
   "source": [
    "## Feature Engineering"
   ]
  },
  {
   "cell_type": "markdown",
   "metadata": {},
   "source": [
    "Loudness\n",
    "\n",
    "    - Description: Measures overall signal strength through RMS of sample amplitudes.\n",
    "    - Use Case: Effective when differentiating characters based on the volume or energy of their speech or sound.\n",
    "\n",
    "Fundamental Frequency\n",
    "\n",
    "    - Description: Extracts the pitch of the audio signal using methods like zero-crossing rate (ZCR).\n",
    "    - Use Case: Useful for identifying characters with distinct pitch or tonal qualities in their voices (e.g., Kermit's high-pitched voice).\n",
    "\n",
    "Rhythm Detection\n",
    "\n",
    "    - Description: Uses autocorrelation to find repeating patterns across frames. Statistical moments indicate the presence of rhythm.\n",
    "    - Use Case: Ideal for characters with unique speech cadences or rhythmic patterns (e.g., the conversational style of Waldorf and Statler)."
   ]
  },
  {
   "cell_type": "code",
   "execution_count": null,
   "metadata": {},
   "outputs": [],
   "source": [
    "# Calculate ZCR features\n",
    "zcr_features = extract_zcr(audio_data)"
   ]
  },
  {
   "cell_type": "code",
   "execution_count": 8,
   "metadata": {},
   "outputs": [],
   "source": [
    "# Convert ZCR features to DataFrame\n",
    "zcr_df = pd.DataFrame([\n",
    "    {'video_idx': vid, 'frame_idx': frame, 'zcr': zcr}\n",
    "    for vid, frames in zcr_features.items()\n",
    "    for frame, zcr in frames\n",
    "])\n"
   ]
  }
 ],
 "metadata": {
  "kernelspec": {
   "display_name": "sim1_2",
   "language": "python",
   "name": "python3"
  },
  "language_info": {
   "codemirror_mode": {
    "name": "ipython",
    "version": 3
   },
   "file_extension": ".py",
   "mimetype": "text/x-python",
   "name": "python",
   "nbconvert_exporter": "python",
   "pygments_lexer": "ipython3",
   "version": "3.10.15"
  }
 },
 "nbformat": 4,
 "nbformat_minor": 2
}
