{
 "cells": [
  {
   "cell_type": "markdown",
   "metadata": {},
   "source": [
    "# Audio Feature Analyses SIM 1"
   ]
  },
  {
   "cell_type": "code",
   "execution_count": 1,
   "metadata": {},
   "outputs": [],
   "source": [
    "from scripts.load_data import check_and_load"
   ]
  },
  {
   "cell_type": "markdown",
   "metadata": {},
   "source": [
    "## Data Loading"
   ]
  },
  {
   "cell_type": "code",
   "execution_count": 2,
   "metadata": {},
   "outputs": [],
   "source": [
    "# Define paths\n",
    "data_path = \"../ground_truth_data/trimmed_videos\"\n",
    "#data_path = \"../ground_truth_data\"\n",
    "\n",
    "frames_output_dir = \"../ground_truth_data/frames\"\n",
    "audio_output_dir = \"../ground_truth_data/audio\"\n",
    "\n",
    "annotations_path = \"../ground_truth_data/trimmed_videos\"\n",
    "#annotations_path = \"../ground_truth_data\"\n",
    "\n",
    "muppet_files = {\n",
    "    \"Muppets-02-01-01.avi\": \"GroundTruth_Muppets-02-01-01.csv\",\n",
    "    \"Muppets-02-04-04.avi\": \"GroundTruth_Muppets-02-04-04.csv\",\n",
    "    \"Muppets-03-04-03.avi\": \"GroundTruth_Muppets-03-04-03.csv\",\n",
    "}"
   ]
  },
  {
   "cell_type": "code",
   "execution_count": 4,
   "metadata": {},
   "outputs": [
    {
     "name": "stdout",
     "output_type": "stream",
     "text": [
      "Frames and/or audio not extracted. Running setup script...\n",
      "Loaded annotations for 'Muppets-02-01-01.avi'.\n",
      "Loaded annotations for 'Muppets-02-04-04.avi'.\n",
      "Loaded annotations for 'Muppets-03-04-03.avi'.\n"
     ]
    },
    {
     "name": "stderr",
     "output_type": "stream",
     "text": [
      "Extracting frames from Muppets-02-01-01.avi:   0%|          | 0/1500 [00:00<?, ?it/s]"
     ]
    },
    {
     "name": "stderr",
     "output_type": "stream",
     "text": [
      "Extracting frames from Muppets-02-01-01.avi: 100%|██████████| 1500/1500 [00:34<00:00, 43.38it/s]\n"
     ]
    },
    {
     "name": "stdout",
     "output_type": "stream",
     "text": [
      "Frames extracted from 'Muppets-02-01-01.avi' and saved to '../ground_truth_data/frames'.\n"
     ]
    },
    {
     "name": "stderr",
     "output_type": "stream",
     "text": [
      "Extracting frames from Muppets-02-04-04.avi: 100%|██████████| 1500/1500 [00:38<00:00, 39.13it/s]\n"
     ]
    },
    {
     "name": "stdout",
     "output_type": "stream",
     "text": [
      "Frames extracted from 'Muppets-02-04-04.avi' and saved to '../ground_truth_data/frames'.\n"
     ]
    },
    {
     "name": "stderr",
     "output_type": "stream",
     "text": [
      "Extracting frames from Muppets-03-04-03.avi: 100%|██████████| 1500/1500 [00:38<00:00, 39.09it/s]\n"
     ]
    },
    {
     "name": "stdout",
     "output_type": "stream",
     "text": [
      "Frames extracted from 'Muppets-03-04-03.avi' and saved to '../ground_truth_data/frames'.\n",
      "Extracted and aligned audio segments for 'Muppets-02-01-01.avi'. Full audio saved to '../ground_truth_data/audio\\full_audio'.\n",
      "Extracted and aligned audio segments for 'Muppets-02-04-04.avi'. Full audio saved to '../ground_truth_data/audio\\full_audio'.\n",
      "Extracted and aligned audio segments for 'Muppets-03-04-03.avi'. Full audio saved to '../ground_truth_data/audio\\full_audio'.\n",
      "Loading audio segments...\n",
      "Loaded audio segments for 3 videos.\n",
      "Loaded audio segments for 3 videos.\n",
      "Video 0 has 1500 audio segments.\n",
      "Video 1 has 1500 audio segments.\n",
      "Video 2 has 1500 audio segments.\n",
      "Loaded frames for 3 videos.\n",
      "Number of videos with frames: 3\n",
      "Video 0 has 1500 frames.\n",
      "Video 1 has 1500 frames.\n",
      "Video 2 has 1500 frames.\n"
     ]
    }
   ],
   "source": [
    "# TODO: add code to overwrite frames or audio in case only one exists\n",
    "annotations, audio_data, frames = check_and_load(data_path, frames_output_dir, audio_output_dir, annotations_path, muppet_files)"
   ]
  }
 ],
 "metadata": {
  "kernelspec": {
   "display_name": "sim1_2",
   "language": "python",
   "name": "python3"
  },
  "language_info": {
   "codemirror_mode": {
    "name": "ipython",
    "version": 3
   },
   "file_extension": ".py",
   "mimetype": "text/x-python",
   "name": "python",
   "nbconvert_exporter": "python",
   "pygments_lexer": "ipython3",
   "version": "3.10.15"
  }
 },
 "nbformat": 4,
 "nbformat_minor": 2
}
