{
 "cells": [
  {
   "cell_type": "code",
   "execution_count": 19,
   "metadata": {},
   "outputs": [],
   "source": [
    "import librosa\n",
    "import numpy as np\n",
    "import pandas as pd\n",
    "import cv2\n",
    "import matplotlib.pyplot as plt\n",
    "from sklearn.model_selection import train_test_split\n",
    "from scripts import setup\n",
    "from scripts.extract_audio_features import extract_zcr, extract_loudness, extract_rhythm, create_target_variable, pad_audio\n",
    "from scripts.load_data import load_full_audio"
   ]
  },
  {
   "cell_type": "code",
   "execution_count": 20,
   "metadata": {},
   "outputs": [],
   "source": [
    "gt_211 =  pd.read_csv(\"../ground_truth_data/GroundTruth_Muppets-02-01-01.csv\", sep=\";\")\n",
    "gt_244 =  pd.read_csv(\"../ground_truth_data/GroundTruth_Muppets-02-04-04.csv\", sep=\";\")\n",
    "gt_343 =  pd.read_csv(\"../ground_truth_data/GroundTruth_Muppets-03-04-03.csv\", sep=\";\")"
   ]
  },
  {
   "cell_type": "code",
   "execution_count": 21,
   "metadata": {},
   "outputs": [],
   "source": [
    "video_path = \"../ground_truth_data/Muppets-02-01-01.avi\""
   ]
  },
  {
   "cell_type": "code",
   "execution_count": 22,
   "metadata": {},
   "outputs": [],
   "source": [
    "cap = cv2.VideoCapture(video_path)\n",
    "fps = cap.get(cv2.CAP_PROP_FPS)\n",
    "intro = 15 * fps\n",
    "gt_211_nointro = gt_211[gt_211[\"Frame_number\"] >= (intro - 1)].reset_index(drop=True)"
   ]
  },
  {
   "cell_type": "code",
   "execution_count": 23,
   "metadata": {},
   "outputs": [],
   "source": [
    "muppet_files = {\"Muppets-02-01-01.avi\": \"Muppets-02-01-01.csv\", \n",
    "                \"Muppets-02-04-04.avi\": \"Muppets-02-04-04.csv\",\n",
    "                \"Muppets-03-04-03.avi\": \"Muppets-03-04-03.csv\"}\n",
    "\n",
    "data_path = \"../ground_truth_data\"\n",
    "output_dir = \"../ground_truth_data\"\n",
    "\n",
    "#setup.extract_audio(muppet_files, data_path, output_dir, sampling_rate=44100)"
   ]
  },
  {
   "cell_type": "markdown",
   "metadata": {},
   "source": [
    "# Pigs audio"
   ]
  },
  {
   "cell_type": "code",
   "execution_count": 24,
   "metadata": {},
   "outputs": [],
   "source": [
    "audio_path = \"../ground_truth_data/Muppets-02-01-01.wav\""
   ]
  },
  {
   "cell_type": "code",
   "execution_count": 25,
   "metadata": {},
   "outputs": [
    {
     "data": {
      "text/html": [
       "<div>\n",
       "<style scoped>\n",
       "    .dataframe tbody tr th:only-of-type {\n",
       "        vertical-align: middle;\n",
       "    }\n",
       "\n",
       "    .dataframe tbody tr th {\n",
       "        vertical-align: top;\n",
       "    }\n",
       "\n",
       "    .dataframe thead th {\n",
       "        text-align: right;\n",
       "    }\n",
       "</style>\n",
       "<table border=\"1\" class=\"dataframe\">\n",
       "  <thead>\n",
       "    <tr style=\"text-align: right;\">\n",
       "      <th></th>\n",
       "      <th>Video</th>\n",
       "      <th>Frame_number</th>\n",
       "      <th>Kermit</th>\n",
       "      <th>Pigs</th>\n",
       "      <th>Audio_Pigs</th>\n",
       "      <th>Cook</th>\n",
       "      <th>Audio_Cook</th>\n",
       "      <th>StatlerWaldorf</th>\n",
       "      <th>Audio_StatlerWaldorf</th>\n",
       "      <th>Audio_MissPiggy</th>\n",
       "    </tr>\n",
       "  </thead>\n",
       "  <tbody>\n",
       "    <tr>\n",
       "      <th>18143</th>\n",
       "      <td>211</td>\n",
       "      <td>18517</td>\n",
       "      <td>0</td>\n",
       "      <td>1</td>\n",
       "      <td>1</td>\n",
       "      <td>0</td>\n",
       "      <td>0</td>\n",
       "      <td>0</td>\n",
       "      <td>0</td>\n",
       "      <td>1</td>\n",
       "    </tr>\n",
       "    <tr>\n",
       "      <th>18144</th>\n",
       "      <td>211</td>\n",
       "      <td>18518</td>\n",
       "      <td>0</td>\n",
       "      <td>1</td>\n",
       "      <td>1</td>\n",
       "      <td>0</td>\n",
       "      <td>0</td>\n",
       "      <td>0</td>\n",
       "      <td>0</td>\n",
       "      <td>1</td>\n",
       "    </tr>\n",
       "    <tr>\n",
       "      <th>18145</th>\n",
       "      <td>211</td>\n",
       "      <td>18519</td>\n",
       "      <td>0</td>\n",
       "      <td>1</td>\n",
       "      <td>1</td>\n",
       "      <td>0</td>\n",
       "      <td>0</td>\n",
       "      <td>0</td>\n",
       "      <td>0</td>\n",
       "      <td>1</td>\n",
       "    </tr>\n",
       "    <tr>\n",
       "      <th>18146</th>\n",
       "      <td>211</td>\n",
       "      <td>18520</td>\n",
       "      <td>0</td>\n",
       "      <td>1</td>\n",
       "      <td>1</td>\n",
       "      <td>0</td>\n",
       "      <td>0</td>\n",
       "      <td>0</td>\n",
       "      <td>0</td>\n",
       "      <td>1</td>\n",
       "    </tr>\n",
       "    <tr>\n",
       "      <th>18147</th>\n",
       "      <td>211</td>\n",
       "      <td>18521</td>\n",
       "      <td>0</td>\n",
       "      <td>1</td>\n",
       "      <td>1</td>\n",
       "      <td>0</td>\n",
       "      <td>0</td>\n",
       "      <td>0</td>\n",
       "      <td>0</td>\n",
       "      <td>1</td>\n",
       "    </tr>\n",
       "    <tr>\n",
       "      <th>...</th>\n",
       "      <td>...</td>\n",
       "      <td>...</td>\n",
       "      <td>...</td>\n",
       "      <td>...</td>\n",
       "      <td>...</td>\n",
       "      <td>...</td>\n",
       "      <td>...</td>\n",
       "      <td>...</td>\n",
       "      <td>...</td>\n",
       "      <td>...</td>\n",
       "    </tr>\n",
       "    <tr>\n",
       "      <th>19159</th>\n",
       "      <td>211</td>\n",
       "      <td>19533</td>\n",
       "      <td>0</td>\n",
       "      <td>1</td>\n",
       "      <td>1</td>\n",
       "      <td>0</td>\n",
       "      <td>0</td>\n",
       "      <td>0</td>\n",
       "      <td>0</td>\n",
       "      <td>1</td>\n",
       "    </tr>\n",
       "    <tr>\n",
       "      <th>19160</th>\n",
       "      <td>211</td>\n",
       "      <td>19534</td>\n",
       "      <td>0</td>\n",
       "      <td>1</td>\n",
       "      <td>1</td>\n",
       "      <td>0</td>\n",
       "      <td>0</td>\n",
       "      <td>0</td>\n",
       "      <td>0</td>\n",
       "      <td>1</td>\n",
       "    </tr>\n",
       "    <tr>\n",
       "      <th>19161</th>\n",
       "      <td>211</td>\n",
       "      <td>19535</td>\n",
       "      <td>0</td>\n",
       "      <td>1</td>\n",
       "      <td>1</td>\n",
       "      <td>0</td>\n",
       "      <td>0</td>\n",
       "      <td>0</td>\n",
       "      <td>0</td>\n",
       "      <td>1</td>\n",
       "    </tr>\n",
       "    <tr>\n",
       "      <th>19162</th>\n",
       "      <td>211</td>\n",
       "      <td>19536</td>\n",
       "      <td>0</td>\n",
       "      <td>1</td>\n",
       "      <td>1</td>\n",
       "      <td>0</td>\n",
       "      <td>0</td>\n",
       "      <td>0</td>\n",
       "      <td>0</td>\n",
       "      <td>1</td>\n",
       "    </tr>\n",
       "    <tr>\n",
       "      <th>19163</th>\n",
       "      <td>211</td>\n",
       "      <td>19537</td>\n",
       "      <td>0</td>\n",
       "      <td>1</td>\n",
       "      <td>1</td>\n",
       "      <td>0</td>\n",
       "      <td>0</td>\n",
       "      <td>0</td>\n",
       "      <td>0</td>\n",
       "      <td>1</td>\n",
       "    </tr>\n",
       "  </tbody>\n",
       "</table>\n",
       "<p>311 rows × 10 columns</p>\n",
       "</div>"
      ],
      "text/plain": [
       "       Video  Frame_number  Kermit  Pigs  Audio_Pigs  Cook  Audio_Cook  \\\n",
       "18143    211         18517       0     1           1     0           0   \n",
       "18144    211         18518       0     1           1     0           0   \n",
       "18145    211         18519       0     1           1     0           0   \n",
       "18146    211         18520       0     1           1     0           0   \n",
       "18147    211         18521       0     1           1     0           0   \n",
       "...      ...           ...     ...   ...         ...   ...         ...   \n",
       "19159    211         19533       0     1           1     0           0   \n",
       "19160    211         19534       0     1           1     0           0   \n",
       "19161    211         19535       0     1           1     0           0   \n",
       "19162    211         19536       0     1           1     0           0   \n",
       "19163    211         19537       0     1           1     0           0   \n",
       "\n",
       "       StatlerWaldorf  Audio_StatlerWaldorf  Audio_MissPiggy  \n",
       "18143               0                     0                1  \n",
       "18144               0                     0                1  \n",
       "18145               0                     0                1  \n",
       "18146               0                     0                1  \n",
       "18147               0                     0                1  \n",
       "...               ...                   ...              ...  \n",
       "19159               0                     0                1  \n",
       "19160               0                     0                1  \n",
       "19161               0                     0                1  \n",
       "19162               0                     0                1  \n",
       "19163               0                     0                1  \n",
       "\n",
       "[311 rows x 10 columns]"
      ]
     },
     "execution_count": 25,
     "metadata": {},
     "output_type": "execute_result"
    }
   ],
   "source": [
    "gt_211_nointro.loc[gt_211_nointro[\"Audio_Pigs\"] == 1]"
   ]
  },
  {
   "cell_type": "code",
   "execution_count": 26,
   "metadata": {},
   "outputs": [],
   "source": [
    "# split into train+validation and test set\n",
    "train_val_annotations, test_annotations = train_test_split(gt_211, test_size=0.2, random_state=42, stratify=gt_211[\"Audio_Pigs\"])\n",
    "                                            \n",
    "# split train+validation into train and validation sets\n",
    "train_annotations, val_annotations = train_test_split(train_val_annotations, test_size=0.25, random_state=42) "
   ]
  },
  {
   "cell_type": "code",
   "execution_count": 27,
   "metadata": {},
   "outputs": [],
   "source": [
    "# Define constants\n",
    "AUDIO_SAMPLING_RATE = 44100\n",
    "FRAMES_PER_SECOND = 25\n",
    "# Calculate expected length\n",
    "expected_length = int(AUDIO_SAMPLING_RATE / FRAMES_PER_SECOND)"
   ]
  },
  {
   "cell_type": "code",
   "execution_count": 28,
   "metadata": {},
   "outputs": [
    {
     "data": {
      "image/png": "[encoded data removed]",
      "text/plain": [
       "<Figure size 1000x400 with 1 Axes>"
      ]
     },
     "metadata": {},
     "output_type": "display_data"
    }
   ],
   "source": [
    "\n",
    "# Frame numbers for the range\n",
    "frame_start = 18500\n",
    "frame_end = 18520\n",
    "fps = 25\n",
    "\n",
    "# Convert frame numbers to timestamps (in seconds)\n",
    "timestamp_start = frame_start / fps\n",
    "timestamp_end = frame_end / fps\n",
    "\n",
    "# Load audio file using librosa\n",
    "audio, sr = librosa.load(audio_path, sr=None)  # Use the original sampling rate\n",
    "\n",
    "# Convert timestamps to samples\n",
    "start_sample = int(timestamp_start * sr)\n",
    "end_sample = int(timestamp_end * sr)\n",
    "\n",
    "# Extract the audio segment\n",
    "audio_segment = audio[start_sample:end_sample]\n",
    "\n",
    "# Plot the waveform of the extracted audio segment\n",
    "plt.figure(figsize=(10, 4))\n",
    "plt.plot(np.linspace(timestamp_start, timestamp_end, len(audio_segment)), audio_segment)\n",
    "plt.title(f\"Audio Waveform: {timestamp_start}s to {timestamp_end}s\")\n",
    "plt.xlabel(\"Time (seconds)\")\n",
    "plt.ylabel(\"Amplitude\")\n",
    "plt.grid(True)\n",
    "plt.show()\n"
   ]
  },
  {
   "cell_type": "markdown",
   "metadata": {},
   "source": [
    "## MFCC"
   ]
  },
  {
   "cell_type": "code",
   "execution_count": 29,
   "metadata": {},
   "outputs": [],
   "source": [
    "# Define constants\n",
    "AUDIO_SAMPLING_RATE = 44100\n",
    "FRAMES_PER_SECOND = 25\n",
    "# Calculate expected length\n",
    "EXPECTED_LENGTH = int(AUDIO_SAMPLING_RATE / FRAMES_PER_SECOND)"
   ]
  },
  {
   "cell_type": "code",
   "execution_count": 30,
   "metadata": {},
   "outputs": [
    {
     "name": "stdout",
     "output_type": "stream",
     "text": [
      "Loaded 3 audio files.\n"
     ]
    }
   ],
   "source": [
    "audio_data = load_full_audio(\"../ground_truth_data\")"
   ]
  },
  {
   "cell_type": "code",
   "execution_count": 31,
   "metadata": {},
   "outputs": [],
   "source": [
    "def pad_audio(audio):\n",
    "    \"\"\"\n",
    "    Pad or trim audio to match the expected length.\n",
    "\n",
    "    Parameters:\n",
    "    - audio (ndarray): Audio signal.\n",
    "\n",
    "    Returns:\n",
    "    - ndarray: Padded or trimmed audio signal.\n",
    "    \"\"\"\n",
    "    if len(audio) < EXPECTED_LENGTH:\n",
    "        padding = EXPECTED_LENGTH - len(audio)\n",
    "        audio = np.pad(audio, (0, padding), mode=\"constant\")\n",
    "    elif len(audio) > EXPECTED_LENGTH:\n",
    "        audio = audio[:EXPECTED_LENGTH]\n",
    "    return audio"
   ]
  },
  {
   "cell_type": "code",
   "execution_count": 32,
   "metadata": {},
   "outputs": [],
   "source": [
    "def extract_mfcc(audio_data, n_mfcc=20):\n",
    "    \"\"\"\n",
    "    Extract MFCC (Mel-Frequency Cepstral Coefficients) features for each audio file.\n",
    "\n",
    "    Parameters:\n",
    "    - audio_data (list): List of dictionaries with audio data and metadata.\n",
    "    - n_mfcc (int): Number of MFCC coefficients to extract.\n",
    "\n",
    "    Returns:\n",
    "    - mfcc_features (list): List of MFCC features for each audio file.\n",
    "    \"\"\"\n",
    "    mfcc_features = []\n",
    "\n",
    "    for audio_entry in audio_data:\n",
    "        try:\n",
    "            audio = audio_entry['audio']\n",
    "\n",
    "            # Pad and normalize audio\n",
    "            #audio = pad_audio(audio)\n",
    "            audio = librosa.util.normalize(audio)\n",
    "\n",
    "            # Calculate MFCC\n",
    "            mfcc = librosa.feature.mfcc(\n",
    "                y=audio,\n",
    "                sr=AUDIO_SAMPLING_RATE, \n",
    "                n_mfcc=n_mfcc,\n",
    "                hop_length=EXPECTED_LENGTH,\n",
    "                n_fft=EXPECTED_LENGTH\n",
    "                )\n",
    "\n",
    "            mfcc_features.append(mfcc)\n",
    "        except Exception as e:\n",
    "            print(f\"Error processing {audio_entry['audio_file']}: {e}\")\n",
    "            mfcc_features.append(None)\n",
    "\n",
    "    return mfcc_features"
   ]
  },
  {
   "cell_type": "code",
   "execution_count": 34,
   "metadata": {},
   "outputs": [
    {
     "data": {
      "text/plain": [
       "38672"
      ]
     },
     "execution_count": 34,
     "metadata": {},
     "output_type": "execute_result"
    }
   ],
   "source": [
    "mfcc_features  = extract_mfcc(audio_data)\n",
    "len(mfcc_features[0][0])"
   ]
  },
  {
   "cell_type": "markdown",
   "metadata": {},
   "source": [
    "# Cook audio"
   ]
  },
  {
   "cell_type": "code",
   "execution_count": 23,
   "metadata": {},
   "outputs": [
    {
     "data": {
      "text/html": [
       "<div>\n",
       "<style scoped>\n",
       "    .dataframe tbody tr th:only-of-type {\n",
       "        vertical-align: middle;\n",
       "    }\n",
       "\n",
       "    .dataframe tbody tr th {\n",
       "        vertical-align: top;\n",
       "    }\n",
       "\n",
       "    .dataframe thead th {\n",
       "        text-align: right;\n",
       "    }\n",
       "</style>\n",
       "<table border=\"1\" class=\"dataframe\">\n",
       "  <thead>\n",
       "    <tr style=\"text-align: right;\">\n",
       "      <th></th>\n",
       "      <th>Video</th>\n",
       "      <th>Frame_number</th>\n",
       "      <th>Kermit</th>\n",
       "      <th>Pigs</th>\n",
       "      <th>Audio_Pigs</th>\n",
       "      <th>Cook</th>\n",
       "      <th>Audio_Cook</th>\n",
       "      <th>StatlerWaldorf</th>\n",
       "      <th>Audio_StatlerWaldorf</th>\n",
       "      <th>Audio_MissPiggy</th>\n",
       "    </tr>\n",
       "  </thead>\n",
       "  <tbody>\n",
       "    <tr>\n",
       "      <th>28599</th>\n",
       "      <td>211</td>\n",
       "      <td>28973</td>\n",
       "      <td>0</td>\n",
       "      <td>0</td>\n",
       "      <td>0</td>\n",
       "      <td>1</td>\n",
       "      <td>1</td>\n",
       "      <td>0</td>\n",
       "      <td>0</td>\n",
       "      <td>0</td>\n",
       "    </tr>\n",
       "    <tr>\n",
       "      <th>28600</th>\n",
       "      <td>211</td>\n",
       "      <td>28974</td>\n",
       "      <td>0</td>\n",
       "      <td>0</td>\n",
       "      <td>0</td>\n",
       "      <td>1</td>\n",
       "      <td>1</td>\n",
       "      <td>0</td>\n",
       "      <td>0</td>\n",
       "      <td>0</td>\n",
       "    </tr>\n",
       "    <tr>\n",
       "      <th>28601</th>\n",
       "      <td>211</td>\n",
       "      <td>28975</td>\n",
       "      <td>0</td>\n",
       "      <td>0</td>\n",
       "      <td>0</td>\n",
       "      <td>1</td>\n",
       "      <td>1</td>\n",
       "      <td>0</td>\n",
       "      <td>0</td>\n",
       "      <td>0</td>\n",
       "    </tr>\n",
       "    <tr>\n",
       "      <th>28602</th>\n",
       "      <td>211</td>\n",
       "      <td>28976</td>\n",
       "      <td>0</td>\n",
       "      <td>0</td>\n",
       "      <td>0</td>\n",
       "      <td>1</td>\n",
       "      <td>1</td>\n",
       "      <td>0</td>\n",
       "      <td>0</td>\n",
       "      <td>0</td>\n",
       "    </tr>\n",
       "    <tr>\n",
       "      <th>28603</th>\n",
       "      <td>211</td>\n",
       "      <td>28977</td>\n",
       "      <td>0</td>\n",
       "      <td>0</td>\n",
       "      <td>0</td>\n",
       "      <td>1</td>\n",
       "      <td>1</td>\n",
       "      <td>0</td>\n",
       "      <td>0</td>\n",
       "      <td>0</td>\n",
       "    </tr>\n",
       "    <tr>\n",
       "      <th>...</th>\n",
       "      <td>...</td>\n",
       "      <td>...</td>\n",
       "      <td>...</td>\n",
       "      <td>...</td>\n",
       "      <td>...</td>\n",
       "      <td>...</td>\n",
       "      <td>...</td>\n",
       "      <td>...</td>\n",
       "      <td>...</td>\n",
       "      <td>...</td>\n",
       "    </tr>\n",
       "    <tr>\n",
       "      <th>29920</th>\n",
       "      <td>211</td>\n",
       "      <td>30294</td>\n",
       "      <td>0</td>\n",
       "      <td>0</td>\n",
       "      <td>0</td>\n",
       "      <td>1</td>\n",
       "      <td>1</td>\n",
       "      <td>0</td>\n",
       "      <td>0</td>\n",
       "      <td>0</td>\n",
       "    </tr>\n",
       "    <tr>\n",
       "      <th>29921</th>\n",
       "      <td>211</td>\n",
       "      <td>30295</td>\n",
       "      <td>0</td>\n",
       "      <td>0</td>\n",
       "      <td>0</td>\n",
       "      <td>1</td>\n",
       "      <td>1</td>\n",
       "      <td>0</td>\n",
       "      <td>0</td>\n",
       "      <td>0</td>\n",
       "    </tr>\n",
       "    <tr>\n",
       "      <th>29922</th>\n",
       "      <td>211</td>\n",
       "      <td>30296</td>\n",
       "      <td>0</td>\n",
       "      <td>0</td>\n",
       "      <td>0</td>\n",
       "      <td>1</td>\n",
       "      <td>1</td>\n",
       "      <td>0</td>\n",
       "      <td>0</td>\n",
       "      <td>0</td>\n",
       "    </tr>\n",
       "    <tr>\n",
       "      <th>29923</th>\n",
       "      <td>211</td>\n",
       "      <td>30297</td>\n",
       "      <td>0</td>\n",
       "      <td>0</td>\n",
       "      <td>0</td>\n",
       "      <td>1</td>\n",
       "      <td>1</td>\n",
       "      <td>0</td>\n",
       "      <td>0</td>\n",
       "      <td>0</td>\n",
       "    </tr>\n",
       "    <tr>\n",
       "      <th>29924</th>\n",
       "      <td>211</td>\n",
       "      <td>30298</td>\n",
       "      <td>0</td>\n",
       "      <td>0</td>\n",
       "      <td>0</td>\n",
       "      <td>1</td>\n",
       "      <td>1</td>\n",
       "      <td>0</td>\n",
       "      <td>0</td>\n",
       "      <td>0</td>\n",
       "    </tr>\n",
       "  </tbody>\n",
       "</table>\n",
       "<p>1157 rows × 10 columns</p>\n",
       "</div>"
      ],
      "text/plain": [
       "       Video  Frame_number  Kermit  Pigs  Audio_Pigs  Cook  Audio_Cook  \\\n",
       "28599    211         28973       0     0           0     1           1   \n",
       "28600    211         28974       0     0           0     1           1   \n",
       "28601    211         28975       0     0           0     1           1   \n",
       "28602    211         28976       0     0           0     1           1   \n",
       "28603    211         28977       0     0           0     1           1   \n",
       "...      ...           ...     ...   ...         ...   ...         ...   \n",
       "29920    211         30294       0     0           0     1           1   \n",
       "29921    211         30295       0     0           0     1           1   \n",
       "29922    211         30296       0     0           0     1           1   \n",
       "29923    211         30297       0     0           0     1           1   \n",
       "29924    211         30298       0     0           0     1           1   \n",
       "\n",
       "       StatlerWaldorf  Audio_StatlerWaldorf  Audio_MissPiggy  \n",
       "28599               0                     0                0  \n",
       "28600               0                     0                0  \n",
       "28601               0                     0                0  \n",
       "28602               0                     0                0  \n",
       "28603               0                     0                0  \n",
       "...               ...                   ...              ...  \n",
       "29920               0                     0                0  \n",
       "29921               0                     0                0  \n",
       "29922               0                     0                0  \n",
       "29923               0                     0                0  \n",
       "29924               0                     0                0  \n",
       "\n",
       "[1157 rows x 10 columns]"
      ]
     },
     "execution_count": 23,
     "metadata": {},
     "output_type": "execute_result"
    }
   ],
   "source": [
    "gt_211_nointro.loc[gt_211_nointro[\"Audio_Cook\"] == 1]"
   ]
  },
  {
   "cell_type": "code",
   "execution_count": 24,
   "metadata": {},
   "outputs": [
    {
     "data": {
      "image/png": "[encoded data removed]",
      "text/plain": [
       "<Figure size 1000x400 with 1 Axes>"
      ]
     },
     "metadata": {},
     "output_type": "display_data"
    }
   ],
   "source": [
    "audio_path = \"../ground_truth_data/Muppets-02-01-01.wav\"\n",
    "\n",
    "# Frame numbers for the range\n",
    "frame_start = 28965\n",
    "frame_end = 28980\n",
    "fps = 25\n",
    "\n",
    "# Convert frame numbers to timestamps (in seconds)\n",
    "timestamp_start = frame_start / fps\n",
    "timestamp_end = frame_end / fps\n",
    "\n",
    "# Load audio file using librosa\n",
    "audio, sr = librosa.load(audio_path, sr=None)  # Use the original sampling rate\n",
    "\n",
    "# Convert timestamps to samples\n",
    "start_sample = int(timestamp_start * sr)\n",
    "end_sample = int(timestamp_end * sr)\n",
    "\n",
    "# Extract the audio segment\n",
    "audio_segment = audio[start_sample:end_sample]\n",
    "\n",
    "# Plot the waveform of the extracted audio segment\n",
    "plt.figure(figsize=(10, 4))\n",
    "plt.plot(np.linspace(timestamp_start, timestamp_end, len(audio_segment)), audio_segment)\n",
    "plt.title(f\"Audio Waveform: {timestamp_start}s to {timestamp_end}s\")\n",
    "plt.xlabel(\"Time (seconds)\")\n",
    "plt.ylabel(\"Amplitude\")\n",
    "plt.grid(True)\n",
    "plt.show()"
   ]
  },
  {
   "cell_type": "markdown",
   "metadata": {},
   "source": [
    "# Alignment"
   ]
  },
  {
   "cell_type": "code",
   "execution_count": 15,
   "metadata": {},
   "outputs": [],
   "source": [
    "audio, sr = librosa.load(audio_path, sr=44100)  \n",
    "len(audio)"
   ]
  },
  {
   "cell_type": "code",
   "execution_count": 16,
   "metadata": {},
   "outputs": [
    {
     "data": {
      "text/plain": [
       "68215997"
      ]
     },
     "execution_count": 16,
     "metadata": {},
     "output_type": "execute_result"
    }
   ],
   "source": [
    "len(audio)"
   ]
  },
  {
   "cell_type": "code",
   "execution_count": 17,
   "metadata": {},
   "outputs": [
    {
     "data": {
      "text/plain": [
       "38671.20011337868"
      ]
     },
     "execution_count": 17,
     "metadata": {},
     "output_type": "execute_result"
    }
   ],
   "source": [
    "68215997/(44100/25)"
   ]
  },
  {
   "cell_type": "code",
   "execution_count": 35,
   "metadata": {},
   "outputs": [
    {
     "data": {
      "text/plain": [
       "(38681, 10)"
      ]
     },
     "execution_count": 35,
     "metadata": {},
     "output_type": "execute_result"
    }
   ],
   "source": [
    "gt_211.shape #38681"
   ]
  }
 ],
 "metadata": {
  "kernelspec": {
   "display_name": "sm_venv",
   "language": "python",
   "name": "python3"
  },
  "language_info": {
   "codemirror_mode": {
    "name": "ipython",
    "version": 3
   },
   "file_extension": ".py",
   "mimetype": "text/x-python",
   "name": "python",
   "nbconvert_exporter": "python",
   "pygments_lexer": "ipython3",
   "version": "3.12.8"
  }
 },
 "nbformat": 4,
 "nbformat_minor": 2
}
