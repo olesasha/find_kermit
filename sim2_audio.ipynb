{
 "cells": [
  {
   "cell_type": "markdown",
   "metadata": {},
   "source": [
    "# Audio Feature Analysis SIM 2 - Detecting Pigs and the Swedish Chef"
   ]
  },
  {
   "cell_type": "code",
   "execution_count": 61,
   "metadata": {},
   "outputs": [],
   "source": [
    "import librosa\n",
    "import numpy as np\n",
    "import pandas as pd\n",
    "from scripts.load_data import check_and_load\n",
    "from scripts.nested_cv import partition_feature_df\n",
    "from scripts.sim2_extract_audio_features import extract_mfcc, extract_log_mel_spectrogram, extract_yin"
   ]
  },
  {
   "cell_type": "code",
   "execution_count": 2,
   "metadata": {},
   "outputs": [
    {
     "name": "stdout",
     "output_type": "stream",
     "text": [
      "Frames and audio are already extracted.\n",
      "Loading audio segments...\n",
      "Loaded 3 audio files.\n",
      "Loaded audio segments for 3 videos.\n",
      "Loaded frames for 3 videos.\n",
      "Number of videos with frames: 3\n",
      "Video 0 has 38681 frames.\n",
      "Video 1 has 38706 frames.\n",
      "Video 2 has 38498 frames.\n"
     ]
    }
   ],
   "source": [
    "data_path = \"../ground_truth_data\"\n",
    "frames_output_dir = \"../ground_truth_data/frames\"\n",
    "audio_output_dir = \"../ground_truth_data\"\n",
    "annotations_path = \"../ground_truth_data\"\n",
    "\n",
    "muppet_files = {\n",
    "    \"Muppets-02-01-01.avi\": \"GroundTruth_Muppets-02-01-01.csv\",\n",
    "    \"Muppets-02-04-04.avi\": \"GroundTruth_Muppets-02-04-04.csv\",\n",
    "    \"Muppets-03-04-03.avi\": \"GroundTruth_Muppets-03-04-03.csv\",\n",
    "}\n",
    "\n",
    "annotations, audio_data, frames = check_and_load(data_path, frames_output_dir, audio_output_dir, annotations_path, muppet_files)"
   ]
  },
  {
   "cell_type": "markdown",
   "metadata": {},
   "source": [
    "## MFCC"
   ]
  },
  {
   "cell_type": "code",
   "execution_count": 4,
   "metadata": {},
   "outputs": [],
   "source": [
    "mfcc_features  = extract_mfcc(audio_data)"
   ]
  },
  {
   "cell_type": "markdown",
   "metadata": {},
   "source": [
    "## Log Mel spectrogram"
   ]
  },
  {
   "cell_type": "code",
   "execution_count": 8,
   "metadata": {},
   "outputs": [],
   "source": [
    "log_mel_features = extract_log_mel_spectrogram(audio_data)"
   ]
  },
  {
   "cell_type": "markdown",
   "metadata": {},
   "source": [
    "## Probabilistic YIN pitch extraction"
   ]
  },
  {
   "cell_type": "code",
   "execution_count": null,
   "metadata": {},
   "outputs": [
    {
     "name": "stderr",
     "output_type": "stream",
     "text": [
      "Processing audio entries:   0%|          | 0/3 [00:00<?, ?it/s]"
     ]
    },
    {
     "name": "stderr",
     "output_type": "stream",
     "text": [
      "Processing audio entries: 100%|██████████| 3/3 [17:40<00:00, 353.57s/it]\n"
     ]
    }
   ],
   "source": [
    "extract = False\n",
    "\n",
    "if extract == True:\n",
    "    yin_extracted = extract_yin(audio_data)\n",
    "        \n",
    "    out = pd.DataFrame()\n",
    "    video_id_mapper = {\"Muppets-02-01-01.wav\":0, \"Muppets-03-04-03.wav\":2, \"Muppets-02-04-04.wav\":1}\n",
    "    \n",
    "    for audio_entry in audio_data:\n",
    "        audio_file = audio_entry.get('audio_file', 'Unknown file')\n",
    "        video_id = video_id_mapper.get(audio_file)\n",
    "        \n",
    "        df = pd.DataFrame(yin_extracted[audio_file]).T\n",
    "        df = df.rename(columns={0:\"yin\", 1:\"voiced_flag\", 2:\"voiced_prob\"})\n",
    "        df = df.reset_index(names=\"frame_idx\")\n",
    "        df[\"video_idx\"] = video_id\n",
    "        \n",
    "        out = pd.concat([out, df], axis=0)\n",
    "        \n",
    "    return out\n",
    "\n",
    "    output_yin.to_csv(\"../model_data/features/yin_features.csv\", index=False)\n",
    "    \n",
    "else: \n",
    "    print(\"Set extract to True to extract features\")"
   ]
  },
  {
   "cell_type": "markdown",
   "metadata": {},
   "source": [
    "## Extract features"
   ]
  },
  {
   "cell_type": "code",
   "execution_count": null,
   "metadata": {},
   "outputs": [],
   "source": [
    "output_yin = output_yin.fillna(0)\n",
    "output_yin = output_yin[[\"yin\", \"video_id\", \"frame_id\"]]"
   ]
  },
  {
   "cell_type": "code",
   "execution_count": 56,
   "metadata": {},
   "outputs": [
    {
     "name": "stdout",
     "output_type": "stream",
     "text": [
      "38681\n",
      "38498\n",
      "38706\n",
      "(115885, 63)\n"
     ]
    }
   ],
   "source": [
    "# Initialize the final list to hold feature rows\n",
    "extracted_features_df = []\n",
    "\n",
    "# Loop through the data for each video\n",
    "for video_idx, (audio_entry, mfcc, log_mel) in enumerate(\n",
    "        zip(audio_data, mfcc_features, log_mel_features)):\n",
    "    \n",
    "    num_frames = mfcc.shape[1]-2  # -2 accounts for edge frames in MFCC\n",
    "    print(num_frames)\n",
    "\n",
    "    for frame_idx in range(num_frames):\n",
    "        feature_row = {\n",
    "            \"video_idx\": video_idx,\n",
    "            \"frame_idx\": frame_idx\n",
    "        }\n",
    "\n",
    "        # Add MFCC features\n",
    "        mfcc_values = {f\"mfcc_{i+1}\": mfcc[i, frame_idx] for i in range(mfcc.shape[0])}\n",
    "        feature_row.update(mfcc_values)\n",
    "        \n",
    "        # Add Log Mel features\n",
    "        log_mel_values = {f\"log_mel_{i+1}\": log_mel[i, frame_idx] for i in range(log_mel.shape[0])}\n",
    "        feature_row.update(log_mel_values)\n",
    "\n",
    "        # Append the row to the list\n",
    "        extracted_features_df.append(feature_row)\n",
    "\n",
    "# Convert the list of features into a DataFrame\n",
    "extracted_features_df = pd.DataFrame(extracted_features_df) \n",
    "extracted_features_df = pd.merge(extracted_features_df, output_yin, on = [\"frame_idx\", \"video_idx\"], how=\"left\")\n",
    "\n",
    "# Display the shape of the combined DataFrame\n",
    "print(extracted_features_df.shape)"
   ]
  },
  {
   "cell_type": "code",
   "execution_count": 57,
   "metadata": {},
   "outputs": [
    {
     "data": {
      "text/plain": [
       "Index(['video_idx', 'frame_idx', 'mfcc_1', 'mfcc_2', 'mfcc_3', 'mfcc_4',\n",
       "       'mfcc_5', 'mfcc_6', 'mfcc_7', 'mfcc_8', 'mfcc_9', 'mfcc_10', 'mfcc_11',\n",
       "       'mfcc_12', 'mfcc_13', 'mfcc_14', 'mfcc_15', 'mfcc_16', 'mfcc_17',\n",
       "       'mfcc_18', 'mfcc_19', 'mfcc_20', 'log_mel_1', 'log_mel_2', 'log_mel_3',\n",
       "       'log_mel_4', 'log_mel_5', 'log_mel_6', 'log_mel_7', 'log_mel_8',\n",
       "       'log_mel_9', 'log_mel_10', 'log_mel_11', 'log_mel_12', 'log_mel_13',\n",
       "       'log_mel_14', 'log_mel_15', 'log_mel_16', 'log_mel_17', 'log_mel_18',\n",
       "       'log_mel_19', 'log_mel_20', 'log_mel_21', 'log_mel_22', 'log_mel_23',\n",
       "       'log_mel_24', 'log_mel_25', 'log_mel_26', 'log_mel_27', 'log_mel_28',\n",
       "       'log_mel_29', 'log_mel_30', 'log_mel_31', 'log_mel_32', 'log_mel_33',\n",
       "       'log_mel_34', 'log_mel_35', 'log_mel_36', 'log_mel_37', 'log_mel_38',\n",
       "       'log_mel_39', 'log_mel_40', 'yin'],\n",
       "      dtype='object')"
      ]
     },
     "execution_count": 57,
     "metadata": {},
     "output_type": "execute_result"
    }
   ],
   "source": [
    "extracted_features_df.columns"
   ]
  },
  {
   "cell_type": "code",
   "execution_count": 60,
   "metadata": {},
   "outputs": [],
   "source": [
    "extracted_features_df.to_csv(\"../model_data/features/sim2_audio_features.csv\")"
   ]
  },
  {
   "cell_type": "code",
   "execution_count": 44,
   "metadata": {},
   "outputs": [],
   "source": [
    "output_yin = output_yin.fillna(0)\n",
    "output_yin = output_yin[[\"yin\", \"video_id\", \"frame_id\"]]"
   ]
  },
  {
   "cell_type": "code",
   "execution_count": 55,
   "metadata": {},
   "outputs": [
    {
     "data": {
      "text/plain": [
       "(40, 38683)"
      ]
     },
     "execution_count": 55,
     "metadata": {},
     "output_type": "execute_result"
    }
   ],
   "source": [
    "log_mel_features[0].shape"
   ]
  },
  {
   "cell_type": "markdown",
   "metadata": {},
   "source": [
    "# Pigs classification"
   ]
  },
  {
   "cell_type": "markdown",
   "metadata": {},
   "source": [
    "# Cook classification"
   ]
  },
  {
   "cell_type": "code",
   "execution_count": 18,
   "metadata": {},
   "outputs": [
    {
     "ename": "NameError",
     "evalue": "name 'gt_211_nointro' is not defined",
     "output_type": "error",
     "traceback": [
      "\u001b[0;31m---------------------------------------------------------------------------\u001b[0m",
      "\u001b[0;31mNameError\u001b[0m                                 Traceback (most recent call last)",
      "Cell \u001b[0;32mIn[18], line 1\u001b[0m\n\u001b[0;32m----> 1\u001b[0m \u001b[43mgt_211_nointro\u001b[49m\u001b[38;5;241m.\u001b[39mloc[gt_211_nointro[\u001b[38;5;124m\"\u001b[39m\u001b[38;5;124mAudio_Cook\u001b[39m\u001b[38;5;124m\"\u001b[39m] \u001b[38;5;241m==\u001b[39m \u001b[38;5;241m1\u001b[39m]\n",
      "\u001b[0;31mNameError\u001b[0m: name 'gt_211_nointro' is not defined"
     ]
    }
   ],
   "source": [
    "gt_211_nointro.loc[gt_211_nointro[\"Audio_Cook\"] == 1]"
   ]
  },
  {
   "cell_type": "code",
   "execution_count": 24,
   "metadata": {},
   "outputs": [
    {
     "ename": "NameError",
     "evalue": "name 'plt' is not defined",
     "output_type": "error",
     "traceback": [
      "\u001b[0;31m---------------------------------------------------------------------------\u001b[0m",
      "\u001b[0;31mNameError\u001b[0m                                 Traceback (most recent call last)",
      "Cell \u001b[0;32mIn[19], line 23\u001b[0m\n\u001b[1;32m     20\u001b[0m audio_segment \u001b[38;5;241m=\u001b[39m audio[start_sample:end_sample]\n\u001b[1;32m     22\u001b[0m \u001b[38;5;66;03m# Plot the waveform of the extracted audio segment\u001b[39;00m\n\u001b[0;32m---> 23\u001b[0m \u001b[43mplt\u001b[49m\u001b[38;5;241m.\u001b[39mfigure(figsize\u001b[38;5;241m=\u001b[39m(\u001b[38;5;241m10\u001b[39m, \u001b[38;5;241m4\u001b[39m))\n\u001b[1;32m     24\u001b[0m plt\u001b[38;5;241m.\u001b[39mplot(np\u001b[38;5;241m.\u001b[39mlinspace(timestamp_start, timestamp_end, \u001b[38;5;28mlen\u001b[39m(audio_segment)), audio_segment)\n\u001b[1;32m     25\u001b[0m plt\u001b[38;5;241m.\u001b[39mtitle(\u001b[38;5;124mf\u001b[39m\u001b[38;5;124m\"\u001b[39m\u001b[38;5;124mAudio Waveform: \u001b[39m\u001b[38;5;132;01m{\u001b[39;00mtimestamp_start\u001b[38;5;132;01m}\u001b[39;00m\u001b[38;5;124ms to \u001b[39m\u001b[38;5;132;01m{\u001b[39;00mtimestamp_end\u001b[38;5;132;01m}\u001b[39;00m\u001b[38;5;124ms\u001b[39m\u001b[38;5;124m\"\u001b[39m)\n",
      "\u001b[0;31mNameError\u001b[0m: name 'plt' is not defined"
     ]
    }
   ],
   "source": [
    "audio_path = \"../ground_truth_data/Muppets-02-01-01.wav\"\n",
    "\n",
    "# Frame numbers for the range\n",
    "frame_start = 28965\n",
    "frame_end = 28980\n",
    "fps = 25\n",
    "\n",
    "# Convert frame numbers to timestamps (in seconds)\n",
    "timestamp_start = frame_start / fps\n",
    "timestamp_end = frame_end / fps\n",
    "\n",
    "# Load audio file using librosa\n",
    "audio, sr = librosa.load(audio_path, sr=None)  # Use the original sampling rate\n",
    "\n",
    "# Convert timestamps to samples\n",
    "start_sample = int(timestamp_start * sr)\n",
    "end_sample = int(timestamp_end * sr)\n",
    "\n",
    "# Extract the audio segment\n",
    "audio_segment = audio[start_sample:end_sample]\n",
    "\n",
    "# Plot the waveform of the extracted audio segment\n",
    "plt.figure(figsize=(10, 4))\n",
    "plt.plot(np.linspace(timestamp_start, timestamp_end, len(audio_segment)), audio_segment)\n",
    "plt.title(f\"Audio Waveform: {timestamp_start}s to {timestamp_end}s\")\n",
    "plt.xlabel(\"Time (seconds)\")\n",
    "plt.ylabel(\"Amplitude\")\n",
    "plt.grid(True)\n",
    "plt.show()"
   ]
  }
 ],
 "metadata": {
  "kernelspec": {
   "display_name": "sm_venv",
   "language": "python",
   "name": "python3"
  },
  "language_info": {
   "codemirror_mode": {
    "name": "ipython",
    "version": 3
   },
   "file_extension": ".py",
   "mimetype": "text/x-python",
   "name": "python",
   "nbconvert_exporter": "python",
   "pygments_lexer": "ipython3",
   "version": "3.12.8"
  }
 },
 "nbformat": 4,
 "nbformat_minor": 2
}
