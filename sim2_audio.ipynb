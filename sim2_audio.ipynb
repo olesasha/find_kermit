{
 "cells": [
  {
   "cell_type": "markdown",
   "metadata": {},
   "source": [
    "# Video features Pigs and Cook"
   ]
  },
  {
   "cell_type": "code",
   "execution_count": 1,
   "metadata": {},
   "outputs": [],
   "source": [
    "import librosa\n",
    "import numpy as np\n",
    "import pandas as pd\n",
    "\n",
    "from scripts.load_data import check_and_load\n",
    "from scripts.nested_cv import partition_feature_df\n",
    "from scripts.extract_audio_features import extract_mfcc"
   ]
  },
  {
   "cell_type": "code",
   "execution_count": 2,
   "metadata": {},
   "outputs": [
    {
     "name": "stdout",
     "output_type": "stream",
     "text": [
      "Frames and audio are already extracted.\n",
      "Loading audio segments...\n",
      "Loaded 3 audio files.\n",
      "Loaded audio segments for 3 videos.\n",
      "Loaded frames for 3 videos.\n",
      "Number of videos with frames: 3\n",
      "Video 0 has 38681 frames.\n",
      "Video 1 has 38706 frames.\n",
      "Video 2 has 38498 frames.\n"
     ]
    }
   ],
   "source": [
    "data_path = \"../ground_truth_data\"\n",
    "frames_output_dir = \"../ground_truth_data/frames\"\n",
    "audio_output_dir = \"../ground_truth_data\"\n",
    "annotations_path = \"../ground_truth_data\"\n",
    "\n",
    "muppet_files = {\n",
    "    \"Muppets-02-01-01.avi\": \"GroundTruth_Muppets-02-01-01.csv\",\n",
    "    \"Muppets-02-04-04.avi\": \"GroundTruth_Muppets-02-04-04.csv\",\n",
    "    \"Muppets-03-04-03.avi\": \"GroundTruth_Muppets-03-04-03.csv\",\n",
    "}\n",
    "\n",
    "annotations, audio_data, frames = check_and_load(data_path, frames_output_dir, audio_output_dir, annotations_path, muppet_files)"
   ]
  },
  {
   "cell_type": "code",
   "execution_count": 3,
   "metadata": {},
   "outputs": [],
   "source": [
    "# Define constants\n",
    "AUDIO_SAMPLING_RATE = 44100\n",
    "FRAMES_PER_SECOND = 25\n",
    "# Calculate expected length\n",
    "samples_per_frame = int(AUDIO_SAMPLING_RATE / FRAMES_PER_SECOND)\n"
   ]
  },
  {
   "cell_type": "markdown",
   "metadata": {},
   "source": [
    "## MFCC"
   ]
  },
  {
   "cell_type": "code",
   "execution_count": 4,
   "metadata": {},
   "outputs": [],
   "source": [
    "mfcc_features  = extract_mfcc(audio_data)"
   ]
  },
  {
   "cell_type": "markdown",
   "metadata": {},
   "source": [
    "## Log Mel spectrogram"
   ]
  },
  {
   "cell_type": "code",
   "execution_count": 8,
   "metadata": {},
   "outputs": [],
   "source": [
    "def pad_audio(audio, duration):\n",
    "    \"\"\"\n",
    "    Pad audio with zeros to match the expected length.\n",
    "\n",
    "    Parameters:\n",
    "    - audio (ndarray): Audio signal.\n",
    "    - expected_length (int): Required audio length in samples.\n",
    "\n",
    "    Returns:\n",
    "    - ndarray: Padded audio signal.\n",
    "    \"\"\"\n",
    "    req_length = int(AUDIO_SAMPLING_RATE * duration)\n",
    "\n",
    "    #print(f\"exp: {req_length}\")\n",
    "    #print(len(audio))\n",
    "    if len(audio) < req_length:\n",
    "        padding = req_length - len(audio)\n",
    "        audio = np.pad(audio, (0, padding), mode=\"constant\")\n",
    "        #print(padding)\n",
    "\n",
    "    return audio"
   ]
  },
  {
   "cell_type": "code",
   "execution_count": 11,
   "metadata": {},
   "outputs": [],
   "source": [
    "def extract_log_mel_spectrogram(audio_data, n_mels=40, frames_per_second=25):\n",
    "\n",
    "    log_mel_features = []\n",
    "\n",
    "    for audio_entry in audio_data:\n",
    "        try:\n",
    "            audio = audio_entry['audio']\n",
    "            sr = audio_entry['sr']\n",
    "            duration = audio_entry['duration']\n",
    "\n",
    "            # Pad and normalize audio\n",
    "            audio = pad_audio(audio, duration)\n",
    "            audio = librosa.util.normalize(audio)\n",
    "\n",
    "            # Compute Mel spectrogram\n",
    "            mel_spectrogram = librosa.feature.melspectrogram(\n",
    "                y=audio,\n",
    "                sr=sr,\n",
    "                n_fft=frames_per_second * 2,  # Assuming 2x frames per second for FFT\n",
    "                hop_length=frames_per_second,  # Corresponds to one frame per second\n",
    "                n_mels=n_mels\n",
    "            )\n",
    "\n",
    "            # Convert to log scale\n",
    "            log_mel_spectrogram = librosa.power_to_db(mel_spectrogram, ref=np.max)\n",
    "\n",
    "            log_mel_features.append(log_mel_spectrogram)\n",
    "        except Exception as e:\n",
    "            print(f\"Error processing {audio_entry['audio_file']}: {e}\")\n",
    "            log_mel_features.append(None)\n",
    "\n",
    "    return log_mel_features\n"
   ]
  },
  {
   "cell_type": "code",
   "execution_count": 15,
   "metadata": {},
   "outputs": [
    {
     "name": "stderr",
     "output_type": "stream",
     "text": [
      "/Users/oleksandra/Desktop/TU/WS 2024/SimilarityModelling/sm_venv/lib/python3.12/site-packages/librosa/feature/spectral.py:2143: UserWarning: Empty filters detected in mel frequency basis. Some channels will produce empty responses. Try increasing your sampling rate (and fmax) or reducing n_mels.\n",
      "  mel_basis = filters.mel(sr=sr, n_fft=n_fft, **kwargs)\n"
     ]
    }
   ],
   "source": [
    "log_mel_features = extract_log_mel_spectrogram(audio_data)"
   ]
  },
  {
   "cell_type": "code",
   "execution_count": 18,
   "metadata": {},
   "outputs": [
    {
     "data": {
      "text/plain": [
       "2729402"
      ]
     },
     "execution_count": 18,
     "metadata": {},
     "output_type": "execute_result"
    }
   ],
   "source": [
    "len(log_mel_features[0][0])"
   ]
  },
  {
   "cell_type": "markdown",
   "metadata": {},
   "source": [
    "## Pitch detection "
   ]
  },
  {
   "cell_type": "markdown",
   "metadata": {},
   "source": [
    "# Pigs classification"
   ]
  },
  {
   "cell_type": "markdown",
   "metadata": {},
   "source": [
    "# Cook classification"
   ]
  },
  {
   "cell_type": "code",
   "execution_count": 23,
   "metadata": {},
   "outputs": [
    {
     "data": {
      "text/html": [
       "<div>\n",
       "<style scoped>\n",
       "    .dataframe tbody tr th:only-of-type {\n",
       "        vertical-align: middle;\n",
       "    }\n",
       "\n",
       "    .dataframe tbody tr th {\n",
       "        vertical-align: top;\n",
       "    }\n",
       "\n",
       "    .dataframe thead th {\n",
       "        text-align: right;\n",
       "    }\n",
       "</style>\n",
       "<table border=\"1\" class=\"dataframe\">\n",
       "  <thead>\n",
       "    <tr style=\"text-align: right;\">\n",
       "      <th></th>\n",
       "      <th>Video</th>\n",
       "      <th>Frame_number</th>\n",
       "      <th>Kermit</th>\n",
       "      <th>Pigs</th>\n",
       "      <th>Audio_Pigs</th>\n",
       "      <th>Cook</th>\n",
       "      <th>Audio_Cook</th>\n",
       "      <th>StatlerWaldorf</th>\n",
       "      <th>Audio_StatlerWaldorf</th>\n",
       "      <th>Audio_MissPiggy</th>\n",
       "    </tr>\n",
       "  </thead>\n",
       "  <tbody>\n",
       "    <tr>\n",
       "      <th>28599</th>\n",
       "      <td>211</td>\n",
       "      <td>28973</td>\n",
       "      <td>0</td>\n",
       "      <td>0</td>\n",
       "      <td>0</td>\n",
       "      <td>1</td>\n",
       "      <td>1</td>\n",
       "      <td>0</td>\n",
       "      <td>0</td>\n",
       "      <td>0</td>\n",
       "    </tr>\n",
       "    <tr>\n",
       "      <th>28600</th>\n",
       "      <td>211</td>\n",
       "      <td>28974</td>\n",
       "      <td>0</td>\n",
       "      <td>0</td>\n",
       "      <td>0</td>\n",
       "      <td>1</td>\n",
       "      <td>1</td>\n",
       "      <td>0</td>\n",
       "      <td>0</td>\n",
       "      <td>0</td>\n",
       "    </tr>\n",
       "    <tr>\n",
       "      <th>28601</th>\n",
       "      <td>211</td>\n",
       "      <td>28975</td>\n",
       "      <td>0</td>\n",
       "      <td>0</td>\n",
       "      <td>0</td>\n",
       "      <td>1</td>\n",
       "      <td>1</td>\n",
       "      <td>0</td>\n",
       "      <td>0</td>\n",
       "      <td>0</td>\n",
       "    </tr>\n",
       "    <tr>\n",
       "      <th>28602</th>\n",
       "      <td>211</td>\n",
       "      <td>28976</td>\n",
       "      <td>0</td>\n",
       "      <td>0</td>\n",
       "      <td>0</td>\n",
       "      <td>1</td>\n",
       "      <td>1</td>\n",
       "      <td>0</td>\n",
       "      <td>0</td>\n",
       "      <td>0</td>\n",
       "    </tr>\n",
       "    <tr>\n",
       "      <th>28603</th>\n",
       "      <td>211</td>\n",
       "      <td>28977</td>\n",
       "      <td>0</td>\n",
       "      <td>0</td>\n",
       "      <td>0</td>\n",
       "      <td>1</td>\n",
       "      <td>1</td>\n",
       "      <td>0</td>\n",
       "      <td>0</td>\n",
       "      <td>0</td>\n",
       "    </tr>\n",
       "    <tr>\n",
       "      <th>...</th>\n",
       "      <td>...</td>\n",
       "      <td>...</td>\n",
       "      <td>...</td>\n",
       "      <td>...</td>\n",
       "      <td>...</td>\n",
       "      <td>...</td>\n",
       "      <td>...</td>\n",
       "      <td>...</td>\n",
       "      <td>...</td>\n",
       "      <td>...</td>\n",
       "    </tr>\n",
       "    <tr>\n",
       "      <th>29920</th>\n",
       "      <td>211</td>\n",
       "      <td>30294</td>\n",
       "      <td>0</td>\n",
       "      <td>0</td>\n",
       "      <td>0</td>\n",
       "      <td>1</td>\n",
       "      <td>1</td>\n",
       "      <td>0</td>\n",
       "      <td>0</td>\n",
       "      <td>0</td>\n",
       "    </tr>\n",
       "    <tr>\n",
       "      <th>29921</th>\n",
       "      <td>211</td>\n",
       "      <td>30295</td>\n",
       "      <td>0</td>\n",
       "      <td>0</td>\n",
       "      <td>0</td>\n",
       "      <td>1</td>\n",
       "      <td>1</td>\n",
       "      <td>0</td>\n",
       "      <td>0</td>\n",
       "      <td>0</td>\n",
       "    </tr>\n",
       "    <tr>\n",
       "      <th>29922</th>\n",
       "      <td>211</td>\n",
       "      <td>30296</td>\n",
       "      <td>0</td>\n",
       "      <td>0</td>\n",
       "      <td>0</td>\n",
       "      <td>1</td>\n",
       "      <td>1</td>\n",
       "      <td>0</td>\n",
       "      <td>0</td>\n",
       "      <td>0</td>\n",
       "    </tr>\n",
       "    <tr>\n",
       "      <th>29923</th>\n",
       "      <td>211</td>\n",
       "      <td>30297</td>\n",
       "      <td>0</td>\n",
       "      <td>0</td>\n",
       "      <td>0</td>\n",
       "      <td>1</td>\n",
       "      <td>1</td>\n",
       "      <td>0</td>\n",
       "      <td>0</td>\n",
       "      <td>0</td>\n",
       "    </tr>\n",
       "    <tr>\n",
       "      <th>29924</th>\n",
       "      <td>211</td>\n",
       "      <td>30298</td>\n",
       "      <td>0</td>\n",
       "      <td>0</td>\n",
       "      <td>0</td>\n",
       "      <td>1</td>\n",
       "      <td>1</td>\n",
       "      <td>0</td>\n",
       "      <td>0</td>\n",
       "      <td>0</td>\n",
       "    </tr>\n",
       "  </tbody>\n",
       "</table>\n",
       "<p>1157 rows × 10 columns</p>\n",
       "</div>"
      ],
      "text/plain": [
       "       Video  Frame_number  Kermit  Pigs  Audio_Pigs  Cook  Audio_Cook  \\\n",
       "28599    211         28973       0     0           0     1           1   \n",
       "28600    211         28974       0     0           0     1           1   \n",
       "28601    211         28975       0     0           0     1           1   \n",
       "28602    211         28976       0     0           0     1           1   \n",
       "28603    211         28977       0     0           0     1           1   \n",
       "...      ...           ...     ...   ...         ...   ...         ...   \n",
       "29920    211         30294       0     0           0     1           1   \n",
       "29921    211         30295       0     0           0     1           1   \n",
       "29922    211         30296       0     0           0     1           1   \n",
       "29923    211         30297       0     0           0     1           1   \n",
       "29924    211         30298       0     0           0     1           1   \n",
       "\n",
       "       StatlerWaldorf  Audio_StatlerWaldorf  Audio_MissPiggy  \n",
       "28599               0                     0                0  \n",
       "28600               0                     0                0  \n",
       "28601               0                     0                0  \n",
       "28602               0                     0                0  \n",
       "28603               0                     0                0  \n",
       "...               ...                   ...              ...  \n",
       "29920               0                     0                0  \n",
       "29921               0                     0                0  \n",
       "29922               0                     0                0  \n",
       "29923               0                     0                0  \n",
       "29924               0                     0                0  \n",
       "\n",
       "[1157 rows x 10 columns]"
      ]
     },
     "execution_count": 23,
     "metadata": {},
     "output_type": "execute_result"
    }
   ],
   "source": [
    "gt_211_nointro.loc[gt_211_nointro[\"Audio_Cook\"] == 1]"
   ]
  },
  {
   "cell_type": "code",
   "execution_count": 24,
   "metadata": {},
   "outputs": [
    {
     "data": {
      "image/png": "[encoded data removed]",
      "text/plain": [
       "<Figure size 1000x400 with 1 Axes>"
      ]
     },
     "metadata": {},
     "output_type": "display_data"
    }
   ],
   "source": [
    "audio_path = \"../ground_truth_data/Muppets-02-01-01.wav\"\n",
    "\n",
    "# Frame numbers for the range\n",
    "frame_start = 28965\n",
    "frame_end = 28980\n",
    "fps = 25\n",
    "\n",
    "# Convert frame numbers to timestamps (in seconds)\n",
    "timestamp_start = frame_start / fps\n",
    "timestamp_end = frame_end / fps\n",
    "\n",
    "# Load audio file using librosa\n",
    "audio, sr = librosa.load(audio_path, sr=None)  # Use the original sampling rate\n",
    "\n",
    "# Convert timestamps to samples\n",
    "start_sample = int(timestamp_start * sr)\n",
    "end_sample = int(timestamp_end * sr)\n",
    "\n",
    "# Extract the audio segment\n",
    "audio_segment = audio[start_sample:end_sample]\n",
    "\n",
    "# Plot the waveform of the extracted audio segment\n",
    "plt.figure(figsize=(10, 4))\n",
    "plt.plot(np.linspace(timestamp_start, timestamp_end, len(audio_segment)), audio_segment)\n",
    "plt.title(f\"Audio Waveform: {timestamp_start}s to {timestamp_end}s\")\n",
    "plt.xlabel(\"Time (seconds)\")\n",
    "plt.ylabel(\"Amplitude\")\n",
    "plt.grid(True)\n",
    "plt.show()"
   ]
  }
 ],
 "metadata": {
  "kernelspec": {
   "display_name": "sm_venv",
   "language": "python",
   "name": "python3"
  },
  "language_info": {
   "codemirror_mode": {
    "name": "ipython",
    "version": 3
   },
   "file_extension": ".py",
   "mimetype": "text/x-python",
   "name": "python",
   "nbconvert_exporter": "python",
   "pygments_lexer": "ipython3",
   "version": "3.12.8"
  }
 },
 "nbformat": 4,
 "nbformat_minor": 2
}
